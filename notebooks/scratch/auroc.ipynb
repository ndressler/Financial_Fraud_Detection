{
 "cells": [
  {
   "cell_type": "code",
   "execution_count": 1,
   "metadata": {},
   "outputs": [],
   "source": [
    "from sklearn.ensemble import IsolationForest\n",
    "import numpy as np\n",
    "import sys, os\n",
    "import pandas as pd"
   ]
  },
  {
   "cell_type": "code",
   "execution_count": 2,
   "metadata": {},
   "outputs": [],
   "source": [
    "sys.path.insert(0, '../../')\n",
    "from src.functions import Data, Modeling, Evaluation\n",
    "\n",
    "dt = Data()\n",
    "mod = Modeling()\n",
    "eval = Evaluation()"
   ]
  },
  {
   "cell_type": "code",
   "execution_count": 3,
   "metadata": {},
   "outputs": [],
   "source": [
    "# Get data directory\n",
    "data_dir = os.path.join(os.getcwd(), '../../data/processed')\n",
    "\n",
    "\n",
    "# relative paths\n",
    "rel_path_X_train = 'X_train.pkl'\n",
    "rel_path_X_val = 'X_val.pkl'\n",
    "rel_path_X_test = 'X_test.pkl'\n",
    "rel_path_y_train = 'y_train.pkl'\n",
    "rel_path_y_val = 'y_val.pkl'\n",
    "rel_path_y_test = 'y_test.pkl'\n",
    "\n",
    "# absolute paths\n",
    "abs_path_X_train = os.path.join(data_dir, rel_path_X_train)\n",
    "abs_path_X_val = os.path.join(data_dir, rel_path_X_val)\n",
    "abs_path_X_test = os.path.join(data_dir, rel_path_X_test)\n",
    "abs_path_y_train = os.path.join(data_dir, rel_path_y_train)\n",
    "abs_path_y_val = os.path.join(data_dir, rel_path_y_val)\n",
    "abs_path_y_test = os.path.join(data_dir, rel_path_y_test)\n",
    "\n",
    "# read files\n",
    "X_train = pd.read_pickle(abs_path_X_train)\n",
    "X_val = pd.read_pickle(abs_path_X_val)\n",
    "X_test = pd.read_pickle(abs_path_X_test)\n",
    "y_train = pd.read_pickle(abs_path_y_train)\n",
    "y_val = pd.read_pickle(abs_path_y_val)\n",
    "y_test = pd.read_pickle(abs_path_y_test)\n"
   ]
  },
  {
   "cell_type": "code",
   "execution_count": 4,
   "metadata": {},
   "outputs": [],
   "source": [
    "# Save column names\n",
    "X_val_df = X_val\n",
    "\n",
    "# Convert pandas dataframes to numpy arrays for memory efficiency\n",
    "X_train = X_train.values\n",
    "X_val = X_val.values\n",
    "y_train = y_train.values\n",
    "y_val = y_val.values"
   ]
  },
  {
   "cell_type": "code",
   "execution_count": 5,
   "metadata": {},
   "outputs": [],
   "source": [
    "from sklearn.model_selection import GridSearchCV, cross_val_predict\n",
    "from sklearn.metrics import precision_score, f1_score, average_precision_score"
   ]
  },
  {
   "cell_type": "code",
   "execution_count": 11,
   "metadata": {},
   "outputs": [],
   "source": [
    "def if_hypertune(param_grid, X_train, y_train):\n",
    "    '''Hyperparameter tuning for a model using GridSearchCV'''\n",
    "\n",
    "    # Initialize the model\n",
    "    clf = IsolationForest(random_state=42)\n",
    "\n",
    "    # Initialize the grid search\n",
    "    grid_search = GridSearchCV(clf, param_grid, scoring='roc_auc', cv=5, n_jobs=-1, refit=True)\n",
    "\n",
    "    # Fit the grid search on your training data\n",
    "    grid_search.fit(X_train, y_train)\n",
    "\n",
    "    # Print the best parameters and the best score\n",
    "    print(f\"Best parameters: {grid_search.best_params_}\")\n",
    "    best_auroc = grid_search.best_score_\n",
    "    print(f\"Best AUROC: {best_auroc}\")\n",
    "\n",
    "    # Get the best parameters and the best estimator\n",
    "    best_params = grid_search.best_params_\n",
    "    best_estimator = grid_search.best_estimator_\n",
    "\n",
    "    # Predict the labels of the training set using cross-validation\n",
    "    y_train_pred = cross_val_predict(best_estimator, X_train, y_train, cv=5)\n",
    "\n",
    "    # Calculate the precision, F1 score, and PR AUC\n",
    "    precision = precision_score(y_train, y_train_pred)\n",
    "    f1 = f1_score(y_train, y_train_pred)\n",
    "    pr_auc = average_precision_score(y_train, y_train_pred)\n",
    "\n",
    "    # Return the best parameters, the best estimator, and the metrics\n",
    "    return best_params, best_estimator, {'AUROC': best_auroc, 'Precision': precision, 'F1 Score': f1, 'PR AUC': pr_auc}"
   ]
  },
  {
   "cell_type": "code",
   "execution_count": 13,
   "metadata": {},
   "outputs": [
    {
     "name": "stdout",
     "output_type": "stream",
     "text": [
      "Best parameters: {'contamination': 0.01, 'max_samples': 50, 'n_estimators': 350}\n",
      "Best AUROC: 0.4723178043317059\n"
     ]
    }
   ],
   "source": [
    "# Define the parameter grid\n",
    "tm_param_grid = {\n",
    "    'n_estimators': [50, 100, 150, 200, 250, 300, 350, 400],\n",
    "    'max_samples': ['auto', 50, 100, 128, 200, 256, 300],\n",
    "    'contamination': [0.01, 0.05, 0.1, 0.15, 0.2],\n",
    "}\n",
    "\n",
    "\n",
    "# Fine tune the model\n",
    "tm_best_params, tm_best_estimator, metrics = if_hypertune(tm_param_grid, X_train, y_train)\n",
    "\n",
    "# Use the best estimator to make predictions\n",
    "tm_pred = tm_best_estimator.predict(X_val)"
   ]
  },
  {
   "cell_type": "code",
   "execution_count": 14,
   "metadata": {},
   "outputs": [],
   "source": [
    "from sklearn.model_selection import StratifiedKFold\n"
   ]
  },
  {
   "cell_type": "code",
   "execution_count": 15,
   "metadata": {},
   "outputs": [],
   "source": [
    "def if_hypertune(param_grid, X_train, y_train):\n",
    "    '''Hyperparameter tuning for a model using GridSearchCV'''\n",
    "\n",
    "    # Initialize the model\n",
    "    clf = IsolationForest(random_state=42)\n",
    "\n",
    "    # Initialize the grid search\n",
    "    grid_search = GridSearchCV(clf, param_grid, scoring='roc_auc', cv=5, n_jobs=-1, refit=True)\n",
    "\n",
    "    # Fit the grid search on your training data\n",
    "    grid_search.fit(X_train, y_train)\n",
    "\n",
    "    # Print the best parameters and the best score\n",
    "    print(f\"Best parameters: {grid_search.best_params_}\")\n",
    "    best_auroc = grid_search.best_score_\n",
    "    print(f\"Best AUROC: {best_auroc}\")\n",
    "\n",
    "    # Get the best parameters and the best estimator\n",
    "    best_params = grid_search.best_params_\n",
    "    best_estimator = grid_search.best_estimator_\n",
    "\n",
    "    # Initialize StratifiedKFold\n",
    "    skf = StratifiedKFold(n_splits=5)\n",
    "\n",
    "    # Use it in cross_val_predict\n",
    "    y_train_pred = cross_val_predict(best_estimator, X_train, y_train, cv=skf)\n",
    "\n",
    "    # Calculate the precision, F1 score, and PR AUC\n",
    "    precision = precision_score(y_train, y_train_pred)\n",
    "    f1 = f1_score(y_train, y_train_pred)\n",
    "    pr_auc = average_precision_score(y_train, y_train_pred)\n",
    "\n",
    "    # Return the best parameters, the best estimator, and the metrics\n",
    "    return best_params, best_estimator, {'AUROC': best_auroc, 'Precision': precision, 'F1 Score': f1, 'PR AUC': pr_auc}"
   ]
  },
  {
   "cell_type": "code",
   "execution_count": 16,
   "metadata": {},
   "outputs": [
    {
     "name": "stdout",
     "output_type": "stream",
     "text": [
      "Best parameters: {'contamination': 0.01, 'max_samples': 50, 'n_estimators': 300}\n",
      "Best AUROC: 0.47095260623075247\n"
     ]
    }
   ],
   "source": [
    "# Define the parameter grid\n",
    "tm_param_grid = {\n",
    "    'n_estimators': [50, 100, 200, 300, 400],\n",
    "    'max_samples': ['auto', 50, 128, 256],\n",
    "    'contamination': [0.01, 0.05, 0.1, 0.2],\n",
    "}\n",
    "\n",
    "\n",
    "# Fine tune the model\n",
    "tm_best_params, tm_best_estimator, metrics = if_hypertune(tm_param_grid, X_train, y_train)\n",
    "\n",
    "# Use the best estimator to make predictions\n",
    "tm_pred = tm_best_estimator.predict(X_val)"
   ]
  },
  {
   "cell_type": "code",
   "execution_count": null,
   "metadata": {},
   "outputs": [],
   "source": []
  }
 ],
 "metadata": {
  "kernelspec": {
   "display_name": "financial_fraud",
   "language": "python",
   "name": "python3"
  },
  "language_info": {
   "codemirror_mode": {
    "name": "ipython",
    "version": 3
   },
   "file_extension": ".py",
   "mimetype": "text/x-python",
   "name": "python",
   "nbconvert_exporter": "python",
   "pygments_lexer": "ipython3",
   "version": "3.10.6"
  }
 },
 "nbformat": 4,
 "nbformat_minor": 2
}
